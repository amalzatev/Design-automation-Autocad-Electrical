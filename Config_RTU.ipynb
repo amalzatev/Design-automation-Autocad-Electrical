{
  "nbformat": 4,
  "nbformat_minor": 0,
  "metadata": {
    "colab": {
      "provenance": [],
      "collapsed_sections": [
        "SXPleHs0SN_p",
        "Rg9f6Vvp7Tbo"
      ],
      "toc_visible": true,
      "authorship_tag": "ABX9TyMFiQJzQYUo1cp5RbXGvbZj",
      "include_colab_link": true
    },
    "kernelspec": {
      "name": "python3",
      "display_name": "Python 3"
    },
    "language_info": {
      "name": "python"
    }
  },
  "cells": [
    {
      "cell_type": "markdown",
      "metadata": {
        "id": "view-in-github",
        "colab_type": "text"
      },
      "source": [
        "<a href=\"https://colab.research.google.com/github/amalzatev/Design-automation-Autocad-Electrical/blob/main/Copia_de_RTU.ipynb\" target=\"_parent\"><img src=\"https://colab.research.google.com/assets/colab-badge.svg\" alt=\"Open In Colab\"/></a>"
      ]
    },
    {
      "cell_type": "code",
      "source": [
        "!pip install xlrd==1.2.0"
      ],
      "metadata": {
        "id": "IU2YVhcl1tG0",
        "colab": {
          "base_uri": "https://localhost:8080/"
        },
        "outputId": "c0e32474-024a-40ae-d6bf-04ee8b37f75d"
      },
      "execution_count": null,
      "outputs": [
        {
          "output_type": "stream",
          "name": "stdout",
          "text": [
            "Looking in indexes: https://pypi.org/simple, https://us-python.pkg.dev/colab-wheels/public/simple/\n",
            "Requirement already satisfied: xlrd==1.2.0 in /usr/local/lib/python3.8/dist-packages (1.2.0)\n"
          ]
        }
      ]
    },
    {
      "cell_type": "code",
      "source": [
        "# INICIELMENTE SE HACE LA COPIA DE LOS MODULOS BASE\n",
        "#    1. LA NUMERACION DE LA PAGINA INICIAL DEBE SER 140\n",
        "\n",
        "import numpy as np\n",
        "import shutil\n",
        "import pandas as pd\n",
        "\n",
        "Modulos_24 = 4\n",
        "Modulos_125 = 8\n",
        "Modulos_salidas = 3\n",
        "Medidores = 12\n",
        "sub = 'R15-RTU-'"
      ],
      "metadata": {
        "id": "Zbv0vP869v_o"
      },
      "execution_count": null,
      "outputs": []
    },
    {
      "cell_type": "code",
      "source": [
        "sub[0:-1]"
      ],
      "metadata": {
        "colab": {
          "base_uri": "https://localhost:8080/",
          "height": 35
        },
        "id": "hnmDQKtESpGK",
        "outputId": "3c6b1629-3b67-415d-9839-1edbd13ef85e"
      },
      "execution_count": null,
      "outputs": [
        {
          "output_type": "execute_result",
          "data": {
            "text/plain": [
              "'R15-RTU'"
            ],
            "application/vnd.google.colaboratory.intrinsic+json": {
              "type": "string"
            }
          },
          "metadata": {},
          "execution_count": 2
        }
      ]
    },
    {
      "cell_type": "markdown",
      "source": [
        "#COMPONENTES"
      ],
      "metadata": {
        "id": "NXJHAtiiHmo-"
      }
    },
    {
      "cell_type": "code",
      "source": [
        "def Change_comp(Model,Modulo,R,Rack,pag,n,sub,M):\n",
        "  Prev_Rack = R + str(Modulo)\n",
        "  Prev_Bor = Rack +  str(Modulo) + M\n",
        "\n",
        "  if Modulo > 65 - 4 and n < 1:\n",
        "    Modulo = 13\n",
        "    n = n+1\n",
        "    Rack = str(n)\n",
        "    R = 'R' + Rack + 'BIR01S'\n",
        "  elif Modulo > 81 - 4:\n",
        "    Modulo = 13\n",
        "    n = n+1\n",
        "    Rack = str(n)\n",
        "    R = 'R' + Rack + 'BIR01S'\n",
        "\n",
        "  Model.replace([Prev_Bor, Prev_Rack],[Rack +  str(Modulo + 4) + M, R + str(Modulo + 4)],inplace = True)\n",
        "\n",
        "  for i in range(len(Model)):\n",
        "\n",
        "    Model.at[i,'(FILENAME)'] = sub + str(int(Model.at[i,'(FILENAME)'][8:11]) + pag) + Model.at[i,'(FILENAME)'][11::]\n",
        "\n",
        "    if Model.iloc[i]['FAMILY'] == 'CR':\n",
        "      x = Model.at[i,'TAGNAME']\n",
        "      Model.at[i,'TAGNAME'] = x.replace(Prev_Bor, Rack +  str(Modulo + 4) + M)\n",
        "  \n",
        "  Modulo = Modulo + 4\n",
        "  return Model, n, Modulo, R, Rack\n"
      ],
      "metadata": {
        "id": "XP9Ift4ajBTA"
      },
      "execution_count": null,
      "outputs": []
    },
    {
      "cell_type": "code",
      "source": [
        "def Change_comp_IN(Model,Modulo,R,Rack,Modulo_IN,R_IN,Rack_IN,pag,n,sub,M):\n",
        "  Prev_Rack = R_IN + str(Modulo_IN)\n",
        "  Prev_Bor = Rack_IN +  str(Modulo_IN) + M\n",
        "\n",
        "  Model.replace([Prev_Bor, Prev_Rack],[Rack +  str(Modulo + 4) + M, R + str(Modulo + 4)],inplace = True)\n",
        "\n",
        "  for i in range(len(Model)):\n",
        "\n",
        "    Model.at[i,'(FILENAME)'] = sub + str(int(Model.at[i,'(FILENAME)'][8:11]) + pag) + Model.at[i,'(FILENAME)'][11::]\n",
        "\n",
        "    if Model.iloc[i]['FAMILY'] == 'CR':\n",
        "      x = Model.at[i,'TAGNAME']\n",
        "      Model.at[i,'TAGNAME'] = x.replace(Prev_Bor, Rack +  str(Modulo + 4) + M)\n",
        "  \n",
        "  Modulo = Modulo + 4\n",
        "  return Model, n, Modulo, R, Rack"
      ],
      "metadata": {
        "id": "Yv-9baSPcOhB"
      },
      "execution_count": null,
      "outputs": []
    },
    {
      "cell_type": "code",
      "source": [
        "###################################################################################################################\n",
        "####                                     CREAR EXCELL DE COMPONENTES                                            ###\n",
        "###################################################################################################################\n",
        "#\n",
        "\n",
        "import pandas as pd\n",
        "\n",
        "Data_comp = pd.DataFrame()\n",
        "Modulo = 17\n",
        "Rack =''\n",
        "R = 'R0BIR01S'\n",
        "n = 0\n",
        "\n",
        "#############################################################################\n",
        "####                               ENTRADAS 24                            ###\n",
        "#############################################################################\n",
        "\n",
        "# PASAR PLANTILLA A PRIMER MODULO (17ED)\n",
        "\n",
        "if Modulos_24 > 0:\n",
        "    \n",
        "  df = pd.read_excel(sub[0:-1] + '.XLS')\n",
        "  Model = df.copy()\n",
        "  Data_comp = pd.concat([Data_comp,Model])\n",
        "\n",
        "  for i in range(0,Modulos_24-1):\n",
        "    [Model,n,Modulo,R,Rack] = Change_comp(Model,Modulo,R,Rack,2,n,sub,\"ED\")\n",
        "    Data_comp = pd.concat([Data_comp,Model])\n",
        "\n",
        "\n",
        "#############################################################################\n",
        "####                               ENTRADAS 125                           ###\n",
        "#############################################################################\n",
        "\n",
        "df = pd.read_excel(sub[0:-1] + '_01.XLS') #, sheet_name='COMP'\n",
        "Model = df.copy()\n",
        "\n",
        "if Modulos_24 == 0:\n",
        "\n",
        "  Data_comp = pd.concat([Data_comp,Model])\n",
        "  \n",
        "else:\n",
        "  # Estos valores se cambian por el modulo actual\n",
        "  [Model,n,Modulo,R,Rack] = Change_comp_IN(Model,Modulo,R,Rack,25,'R2BIR01S','2',0,n,sub,\"ED\")\n",
        "  Data_comp = pd.concat([Data_comp,Model])\n",
        "\n",
        "  for i in range(0,Modulos_125-1):\n",
        "      [Model,n,Modulo,R,Rack] = Change_comp(Model,Modulo,R,Rack,4,n,sub,\"ED\")\n",
        "      Data_comp = pd.concat([Data_comp,Model])"
      ],
      "metadata": {
        "id": "6ec1ped_jjYM"
      },
      "execution_count": null,
      "outputs": []
    },
    {
      "cell_type": "code",
      "source": [
        "#############################################################################\n",
        "####                               SALIDAS                                ###\n",
        "#############################################################################\n",
        "\n",
        "df = pd.read_excel(sub[0:-1] + '_02.XLS', sheet_name='COMP')\n",
        "Model = df.copy()\n",
        "\n",
        "# Estos valores se cambian por el modulo actual\n",
        "[Model,n,Modulo,R,Rack] = Change_comp_IN(Model,Modulo,R,Rack,37,'R2BIR01S','2',0,n,sub,\"SD\")\n",
        "Data_comp = pd.concat([Data_comp,Model])\n",
        "\n",
        "for i in range(0,Modulos_salidas-1):\n",
        "    [Model,n,Modulo,R,Rack] = Change_comp(Model,Modulo,R,Rack,2,n,sub,\"SD\")\n",
        "    Data_comp = pd.concat([Data_comp,Model])"
      ],
      "metadata": {
        "id": "yYKNUKR5GVvR"
      },
      "execution_count": null,
      "outputs": []
    },
    {
      "cell_type": "code",
      "source": [
        "#Data_comp.iloc[68:136]\n",
        "Data_comp.TAGNAME[Data_comp['(FILENAME)'] == 'R15-RTU-140.DWG'].unique()\n",
        "Data_comp['(FILENAME)'].unique()\n"
      ],
      "metadata": {
        "colab": {
          "base_uri": "https://localhost:8080/"
        },
        "id": "W9QyP7WOA5mb",
        "outputId": "7533d06c-9393-4c86-f3ef-013cea04561f"
      },
      "execution_count": null,
      "outputs": [
        {
          "output_type": "execute_result",
          "data": {
            "text/plain": [
              "array(['R15-RTU-141.DWG', 'R15-RTU-140.DWG', 'R33-RTU-143.DWG',\n",
              "       'R33-RTU-142.DWG', 'R33-RTU-145.DWG', 'R33-RTU-144.DWG',\n",
              "       'R33-RTU-147.DWG', 'R33-RTU-146.DWG', 'R33-RTU-148.DWG',\n",
              "       'R33-RTU-149.DWG', 'R33-RTU-150.DWG', 'R33-RTU-151.DWG',\n",
              "       'R33-RTU-152.DWG', 'R33-RTU-153.DWG', 'R33-RTU-154.DWG',\n",
              "       'R33-RTU-155.DWG', 'R33-RTU-156.DWG', 'R33-RTU-157.DWG',\n",
              "       'R33-RTU-158.DWG', 'R33-RTU-159.DWG', 'R33-RTU-160.DWG',\n",
              "       'R33-RTU-161.DWG', 'R33-RTU-162.DWG', 'R33-RTU-163.DWG',\n",
              "       'R33-RTU-164.DWG', 'R33-RTU-165.DWG', 'R33-RTU-166.DWG',\n",
              "       'R33-RTU-167.DWG', 'R33-RTU-168.DWG', 'R33-RTU-169.DWG',\n",
              "       'R33-RTU-170.DWG', 'R33-RTU-171.DWG', 'R33-RTU-172.DWG',\n",
              "       'R33-RTU-173.DWG', 'R33-RTU-174.DWG', 'R33-RTU-175.DWG',\n",
              "       'R33-RTU-176.DWG', 'R33-RTU-177.DWG', 'R33-RTU-178.DWG',\n",
              "       'R33-RTU-179.DWG'], dtype=object)"
            ]
          },
          "metadata": {},
          "execution_count": 12
        }
      ]
    },
    {
      "cell_type": "code",
      "source": [
        "Data_comp.to_excel(sub + 'COMP_COPIAR.xls', index=False)"
      ],
      "metadata": {
        "id": "o7wJngkaky0r",
        "colab": {
          "base_uri": "https://localhost:8080/"
        },
        "outputId": "d4d720ba-0446-4d12-8701-db8652892390"
      },
      "execution_count": null,
      "outputs": [
        {
          "output_type": "stream",
          "name": "stderr",
          "text": [
            "<ipython-input-13-9e1a7b6da83a>:1: FutureWarning: As the xlwt package is no longer maintained, the xlwt engine will be removed in a future version of pandas. This is the only engine in pandas that supports writing in the xls format. Install openpyxl and write to an xlsx file instead. You can set the option io.excel.xls.writer to 'xlwt' to silence this warning. While this option is deprecated and will also raise a warning, it can be globally set and the warning suppressed.\n",
            "  Data_comp.to_excel('R15-RTU_COMP_COPIAR.xls', index=False)\n"
          ]
        }
      ]
    },
    {
      "cell_type": "markdown",
      "source": [
        "#BORNERAS"
      ],
      "metadata": {
        "id": "sUwqTiRRe8yR"
      }
    },
    {
      "cell_type": "code",
      "source": [
        "def Change_born(Model,Modulo,Rack,pag,n,sub,M):\n",
        "\n",
        "  Prev_Bor = Rack +  str(Modulo) + M\n",
        "\n",
        "  if Modulo > 65 - 4 and n < 1:\n",
        "    Modulo = 13\n",
        "    n = n+1\n",
        "    Rack = str(n)\n",
        "    R = 'R' + Rack + 'BIR01S'\n",
        "  elif Modulo > 81 - 4:\n",
        "    Modulo = 13\n",
        "    n = n+1\n",
        "    Rack = str(n)\n",
        "    R = 'R' + Rack + 'BIR01S'\n",
        "\n",
        "  Model.replace([Prev_Bor],[Rack +  str(Modulo + 4) + M],inplace = True)\n",
        "\n",
        "  for i in range(len(Model)):\n",
        "\n",
        "    Model.at[i,'(FILENAME)'] = sub + str(int(Model.at[i,'(FILENAME)'][8:11]) + pag) + Model.at[i,'(FILENAME)'][11::]\n",
        "  \n",
        "  Modulo = Modulo + 4\n",
        "  return Model, n, Modulo, Rack\n"
      ],
      "metadata": {
        "id": "tr4w0CkfgxXa"
      },
      "execution_count": null,
      "outputs": []
    },
    {
      "cell_type": "code",
      "source": [
        "def Change_born_IN(Model,Modulo,Rack,Modulo_IN,Rack_IN,pag,n,sub,M):\n",
        "\n",
        "  Prev_Bor = Rack_IN +  str(Modulo_IN) + M\n",
        "\n",
        "  Model.replace([Prev_Bor],[Rack +  str(Modulo + 4) + M],inplace = True)\n",
        "\n",
        "  for i in range(len(Model)):\n",
        "\n",
        "    Model.at[i,'(FILENAME)'] = sub + str(int(Model.at[i,'(FILENAME)'][8:11]) + pag) + Model.at[i,'(FILENAME)'][11::]\n",
        "  \n",
        "  Modulo = Modulo + 4\n",
        "  return Model, n, Modulo, Rack"
      ],
      "metadata": {
        "id": "-RmJSgBeiUr6"
      },
      "execution_count": null,
      "outputs": []
    },
    {
      "cell_type": "code",
      "source": [
        "###################################################################################################################\n",
        "####                                    CREAR EXCELL DE COMPONENTES BORNERAS                                    ###\n",
        "###################################################################################################################\n",
        "\n",
        "import pandas as pd\n",
        "\n",
        "Data_born = pd.DataFrame()\n",
        "Modulo = 17\n",
        "Rack =''\n",
        "n = 0\n",
        "\n",
        "#############################################################################\n",
        "####                               ENTRADAS 24                            ###\n",
        "#############################################################################\n",
        "\n",
        "# PASAR PLANTILLA A PRIMER MODULO (17ED)\n",
        "\n",
        "if Modulos_24 > 0:\n",
        "    \n",
        "  df = pd.read_excel('R15-RTU_03.XLS')\n",
        "  Model = df.copy()\n",
        "  Data_born = pd.concat([Data_born,Model])\n",
        "\n",
        "  for i in range(0,Modulos_24-1):\n",
        "    [Model,n,Modulo,Rack] = Change_born(Model,Modulo,Rack,2,n,sub,\"ED\")\n",
        "    Data_born = pd.concat([Data_born,Model])\n",
        "\n",
        "#############################################################################\n",
        "####                               ENTRADAS 125                           ###\n",
        "#############################################################################\n",
        "\n",
        "df = pd.read_excel('R15-RTU_04.XLS') #, sheet_name='COMP'\n",
        "Model = df.copy()\n",
        "\n",
        "if Modulos_24 == 0:\n",
        "\n",
        "  Data_born = pd.concat([Data_born,Model])\n",
        "  \n",
        "else:\n",
        "  # Estos valores se cambian por el modulo actual\n",
        "  [Model,n,Modulo,Rack] = Change_born_IN(Model,Modulo,Rack,25,'2',0,n,sub,\"ED\")\n",
        "  Data_born = pd.concat([Data_born,Model])\n",
        "\n",
        "  for i in range(0,Modulos_125-1):\n",
        "      [Model,n,Modulo,Rack] = Change_born(Model,Modulo,Rack,4,n,sub,\"ED\")\n",
        "      Data_born = pd.concat([Data_born,Model])\n",
        "\n"
      ],
      "metadata": {
        "id": "zgjjRdBlfAep"
      },
      "execution_count": null,
      "outputs": []
    },
    {
      "cell_type": "code",
      "source": [
        "#############################################################################\n",
        "####                               SALIDAS                                ###\n",
        "#############################################################################\n",
        "\n",
        "df = pd.read_excel('R33-RTU_05.XLS') #, sheet_name='COMP'\n",
        "Model = df.copy()\n",
        "\n",
        "if Modulos_24 == 0:\n",
        "\n",
        "  Data_born = pd.concat([Data_born,Model])\n",
        "  \n",
        "else:\n",
        "  # Estos valores se cambian por el modulo actual\n",
        "  [Model,n,Modulo,Rack] = Change_born_IN(Model,Modulo,Rack,41,'2',0,n,sub,\"SD\")\n",
        "  Data_born = pd.concat([Data_born,Model])\n",
        "\n",
        "  for i in range(0,Modulos_salidas-1):\n",
        "      [Model,n,Modulo,Rack] = Change_born(Model,Modulo,Rack,2,n,sub,\"SD\")\n",
        "      Data_born = pd.concat([Data_born,Model])"
      ],
      "metadata": {
        "id": "9DBxRXYFYndT"
      },
      "execution_count": null,
      "outputs": []
    },
    {
      "cell_type": "code",
      "source": [
        "Data_born.TAGSTRIP[Data_born['TAGSTRIP'] == '261SD']\n",
        "Data_born['(FILENAME)'].unique()"
      ],
      "metadata": {
        "colab": {
          "base_uri": "https://localhost:8080/"
        },
        "id": "YIQWH5MygT2S",
        "outputId": "477fb42e-4ac5-4b80-aff3-2000dfa02ea3"
      },
      "execution_count": null,
      "outputs": [
        {
          "output_type": "execute_result",
          "data": {
            "text/plain": [
              "array(['R15-RTU-141.DWG', 'R15-RTU-140.DWG', 'R15-RTU-143.DWG',\n",
              "       'R15-RTU-142.DWG', 'R15-RTU-145.DWG', 'R15-RTU-144.DWG',\n",
              "       'R15-RTU-147.DWG', 'R15-RTU-146.DWG', 'R15-RTU-148.DWG',\n",
              "       'R15-RTU-149.DWG', 'R15-RTU-150.DWG', 'R15-RTU-151.DWG',\n",
              "       'R15-RTU-152.DWG', 'R15-RTU-153.DWG', 'R15-RTU-154.DWG',\n",
              "       'R15-RTU-155.DWG', 'R15-RTU-156.DWG', 'R15-RTU-157.DWG',\n",
              "       'R15-RTU-158.DWG', 'R15-RTU-159.DWG', 'R15-RTU-160.DWG',\n",
              "       'R15-RTU-161.DWG', 'R15-RTU-162.DWG', 'R15-RTU-163.DWG',\n",
              "       'R15-RTU-164.DWG', 'R15-RTU-165.DWG', 'R15-RTU-166.DWG',\n",
              "       'R15-RTU-167.DWG', 'R15-RTU-168.DWG', 'R15-RTU-169.DWG',\n",
              "       'R15-RTU-170.DWG', 'R15-RTU-171.DWG', 'R15-RTU-172.DWG',\n",
              "       'R15-RTU-173.DWG', 'R15-RTU-174.DWG', 'R15-RTU-175.DWG',\n",
              "       'R15-RTU-176.DWG', 'R15-RTU-177.DWG', 'R15-RTU-178.DWG',\n",
              "       'R15-RTU-179.DWG'], dtype=object)"
            ]
          },
          "metadata": {},
          "execution_count": 24
        }
      ]
    },
    {
      "cell_type": "code",
      "source": [
        "Data_born.to_excel(sub + 'BORN_COPIAR.xls', index=False)"
      ],
      "metadata": {
        "id": "xN9_ZEXwZtXp"
      },
      "execution_count": null,
      "outputs": []
    },
    {
      "cell_type": "markdown",
      "source": [
        "# GENERAR SIG"
      ],
      "metadata": {
        "id": "SXPleHs0SN_p"
      }
    },
    {
      "cell_type": "code",
      "source": [
        "df = pd.read_excel('R15-RTU_06.XLS')\n",
        "Model = df.copy()\n",
        "Data_cont = pd.DataFrame()\n",
        "Data_cont = pd.concat([Data_cont,Model])\n",
        "\n",
        "n = 0\n",
        "\n",
        "for j in range(1,Modulos_24):\n",
        "    for i in range(1,4):\n",
        "      Model.replace(['SIG'+str(i) + '_' + str(100 + n)],['SIG'+str(i) + '_' + str(100 + j)],inplace = True)\n",
        "      Model.replace(['RTU'+str(i) + '_' + str(100 + n)],['RTU'+str(i) + '_' + str(100 + j)],inplace = True)\n",
        "      Model.replace(['S'+str(i) + '_' + str(100 + n)],['S'+str(i) + '_' + str(100 + j)],inplace = True)\n",
        "\n",
        "    for i in range(len(Model)):\n",
        "\n",
        "        Model.at[i,'(FILENAME)'] = Model.at[i, '(FILENAME)'][0:8] + str(int(Model.at[i,'(FILENAME)'][8:11]) + 2) + Model.at[i,'(FILENAME)'][11::]\n",
        "        \n",
        "    n += 1\n",
        "    Data_cont = pd.concat([Data_cont,Model])"
      ],
      "metadata": {
        "id": "YHXd4nJDm5ht"
      },
      "execution_count": null,
      "outputs": []
    },
    {
      "cell_type": "code",
      "source": [
        "#Data_cont.TAGSTRIP[Data_born['TAGSTRIP'] == '261SD']\n",
        "Data_cont['(FILENAME)'].unique()\n",
        "#Data_cont.iloc[0:10]\n",
        "n"
      ],
      "metadata": {
        "colab": {
          "base_uri": "https://localhost:8080/"
        },
        "id": "8_zhbmetnQZL",
        "outputId": "58ca4a78-2f86-42f3-add4-cb64e82de127"
      },
      "execution_count": null,
      "outputs": [
        {
          "output_type": "execute_result",
          "data": {
            "text/plain": [
              "3"
            ]
          },
          "metadata": {},
          "execution_count": 79
        }
      ]
    },
    {
      "cell_type": "code",
      "source": [
        "df = pd.read_excel('R15-RTU_09.XLS')\n",
        "Model = df.copy()\n",
        "SIG_I = 100\n",
        "\n",
        "\n",
        "for i in range(1,8):\n",
        "  Model.replace(['SIG'+str(i) + '_' + str(SIG_I)],['SIG'+str(i) + '_' + str(SIG_I + n + 1)],inplace = True)\n",
        "  Model.replace(['RTU'+str(i) + '_' + str(SIG_I)],['RTU'+str(i) + '_' + str(SIG_I + n + 1)],inplace = True)\n",
        "n += 1\n",
        "Data_cont = pd.concat([Data_cont,Model])"
      ],
      "metadata": {
        "id": "dQKSYczjiSOM"
      },
      "execution_count": null,
      "outputs": []
    },
    {
      "cell_type": "code",
      "source": [
        "Data_cont[176:196]"
      ],
      "metadata": {
        "colab": {
          "base_uri": "https://localhost:8080/",
          "height": 677
        },
        "id": "OQZNlY_mryDe",
        "outputId": "6cce3193-f031-425b-8b46-851b31574cb4"
      },
      "execution_count": null,
      "outputs": [
        {
          "output_type": "execute_result",
          "data": {
            "text/plain": [
              "   WIRENO   SIGCODE (REF) (TYP)   (HDL)  (ATTPROMPT)   DESC1       (FILENAME)\n",
              "0     ???  SIG2_111    4D     S  h=7F7E          NaN      S-  R15-RTU-176.DWG\n",
              "1     ???  SIG1_111    2D     S  h=7F9E          NaN    RTU+  R15-RTU-176.DWG\n",
              "2     NaN      AM11    1C     A  h=7FC3          NaN    RTU-  R15-RTU-176.DWG\n",
              "3     286  RTU1_111    2A     D  h=7FD8          NaN    RTU+  R15-RTU-176.DWG\n",
              "4     ???  SIG2_111    4A     D  h=686E          NaN      S-  R15-RTU-177.DWG\n",
              "5     ???  SIG4_111    4D     S  h=6877          NaN      S-  R15-RTU-177.DWG\n",
              "6     ???  SIG1_111    2A     D  h=68F3          NaN  +65VDC  R15-RTU-177.DWG\n",
              "7     ???  SIG3_111    2D     S  h=6903          NaN    RTU+  R15-RTU-177.DWG\n",
              "8     NaN      AM11    1A     B  h=6920          NaN    RTU-  R15-RTU-177.DWG\n",
              "9     ???  RTU2_111    2D     D  h=694E          NaN    RTU-  R15-RTU-177.DWG\n",
              "10    ???   SIG2931    4B     S  h=6B53          NaN      S-  R15-RTU-177.DWG\n",
              "11    ???  SIG4_111    4A     D  h=675F          NaN      S-  R15-RTU-178.DWG\n",
              "12    ???  SIG3_111    2A     D  h=678A          NaN    RTU+  R15-RTU-178.DWG\n",
              "13    ???  SIG5_111    2D     S  h=679A          NaN    RTU+  R15-RTU-178.DWG\n",
              "14    NaN      AM12    1C     A  h=67B6          NaN    RTU-  R15-RTU-178.DWG\n",
              "15    ???  SIG6_111    4D     S  h=69FA          NaN      S-  R15-RTU-178.DWG\n",
              "16    ???  SIG5_111    2A     D  h=6705          NaN    RTU+  R15-RTU-179.DWG\n",
              "17    NaN      AM12    1A     B  h=672B          NaN    RTU-  R15-RTU-179.DWG\n",
              "18    ???  RTU3_111    2D     D  h=6759          NaN    RTU-  R15-RTU-179.DWG\n",
              "19    ???  SIG7_111    4D     S  h=6915          NaN      S-  R15-RTU-179.DWG"
            ],
            "text/html": [
              "\n",
              "  <div id=\"df-32006886-a74e-46f9-a092-01050899e57d\">\n",
              "    <div class=\"colab-df-container\">\n",
              "      <div>\n",
              "<style scoped>\n",
              "    .dataframe tbody tr th:only-of-type {\n",
              "        vertical-align: middle;\n",
              "    }\n",
              "\n",
              "    .dataframe tbody tr th {\n",
              "        vertical-align: top;\n",
              "    }\n",
              "\n",
              "    .dataframe thead th {\n",
              "        text-align: right;\n",
              "    }\n",
              "</style>\n",
              "<table border=\"1\" class=\"dataframe\">\n",
              "  <thead>\n",
              "    <tr style=\"text-align: right;\">\n",
              "      <th></th>\n",
              "      <th>WIRENO</th>\n",
              "      <th>SIGCODE</th>\n",
              "      <th>(REF)</th>\n",
              "      <th>(TYP)</th>\n",
              "      <th>(HDL)</th>\n",
              "      <th>(ATTPROMPT)</th>\n",
              "      <th>DESC1</th>\n",
              "      <th>(FILENAME)</th>\n",
              "    </tr>\n",
              "  </thead>\n",
              "  <tbody>\n",
              "    <tr>\n",
              "      <th>0</th>\n",
              "      <td>???</td>\n",
              "      <td>SIG2_111</td>\n",
              "      <td>4D</td>\n",
              "      <td>S</td>\n",
              "      <td>h=7F7E</td>\n",
              "      <td>NaN</td>\n",
              "      <td>S-</td>\n",
              "      <td>R15-RTU-176.DWG</td>\n",
              "    </tr>\n",
              "    <tr>\n",
              "      <th>1</th>\n",
              "      <td>???</td>\n",
              "      <td>SIG1_111</td>\n",
              "      <td>2D</td>\n",
              "      <td>S</td>\n",
              "      <td>h=7F9E</td>\n",
              "      <td>NaN</td>\n",
              "      <td>RTU+</td>\n",
              "      <td>R15-RTU-176.DWG</td>\n",
              "    </tr>\n",
              "    <tr>\n",
              "      <th>2</th>\n",
              "      <td>NaN</td>\n",
              "      <td>AM11</td>\n",
              "      <td>1C</td>\n",
              "      <td>A</td>\n",
              "      <td>h=7FC3</td>\n",
              "      <td>NaN</td>\n",
              "      <td>RTU-</td>\n",
              "      <td>R15-RTU-176.DWG</td>\n",
              "    </tr>\n",
              "    <tr>\n",
              "      <th>3</th>\n",
              "      <td>286</td>\n",
              "      <td>RTU1_111</td>\n",
              "      <td>2A</td>\n",
              "      <td>D</td>\n",
              "      <td>h=7FD8</td>\n",
              "      <td>NaN</td>\n",
              "      <td>RTU+</td>\n",
              "      <td>R15-RTU-176.DWG</td>\n",
              "    </tr>\n",
              "    <tr>\n",
              "      <th>4</th>\n",
              "      <td>???</td>\n",
              "      <td>SIG2_111</td>\n",
              "      <td>4A</td>\n",
              "      <td>D</td>\n",
              "      <td>h=686E</td>\n",
              "      <td>NaN</td>\n",
              "      <td>S-</td>\n",
              "      <td>R15-RTU-177.DWG</td>\n",
              "    </tr>\n",
              "    <tr>\n",
              "      <th>5</th>\n",
              "      <td>???</td>\n",
              "      <td>SIG4_111</td>\n",
              "      <td>4D</td>\n",
              "      <td>S</td>\n",
              "      <td>h=6877</td>\n",
              "      <td>NaN</td>\n",
              "      <td>S-</td>\n",
              "      <td>R15-RTU-177.DWG</td>\n",
              "    </tr>\n",
              "    <tr>\n",
              "      <th>6</th>\n",
              "      <td>???</td>\n",
              "      <td>SIG1_111</td>\n",
              "      <td>2A</td>\n",
              "      <td>D</td>\n",
              "      <td>h=68F3</td>\n",
              "      <td>NaN</td>\n",
              "      <td>+65VDC</td>\n",
              "      <td>R15-RTU-177.DWG</td>\n",
              "    </tr>\n",
              "    <tr>\n",
              "      <th>7</th>\n",
              "      <td>???</td>\n",
              "      <td>SIG3_111</td>\n",
              "      <td>2D</td>\n",
              "      <td>S</td>\n",
              "      <td>h=6903</td>\n",
              "      <td>NaN</td>\n",
              "      <td>RTU+</td>\n",
              "      <td>R15-RTU-177.DWG</td>\n",
              "    </tr>\n",
              "    <tr>\n",
              "      <th>8</th>\n",
              "      <td>NaN</td>\n",
              "      <td>AM11</td>\n",
              "      <td>1A</td>\n",
              "      <td>B</td>\n",
              "      <td>h=6920</td>\n",
              "      <td>NaN</td>\n",
              "      <td>RTU-</td>\n",
              "      <td>R15-RTU-177.DWG</td>\n",
              "    </tr>\n",
              "    <tr>\n",
              "      <th>9</th>\n",
              "      <td>???</td>\n",
              "      <td>RTU2_111</td>\n",
              "      <td>2D</td>\n",
              "      <td>D</td>\n",
              "      <td>h=694E</td>\n",
              "      <td>NaN</td>\n",
              "      <td>RTU-</td>\n",
              "      <td>R15-RTU-177.DWG</td>\n",
              "    </tr>\n",
              "    <tr>\n",
              "      <th>10</th>\n",
              "      <td>???</td>\n",
              "      <td>SIG2931</td>\n",
              "      <td>4B</td>\n",
              "      <td>S</td>\n",
              "      <td>h=6B53</td>\n",
              "      <td>NaN</td>\n",
              "      <td>S-</td>\n",
              "      <td>R15-RTU-177.DWG</td>\n",
              "    </tr>\n",
              "    <tr>\n",
              "      <th>11</th>\n",
              "      <td>???</td>\n",
              "      <td>SIG4_111</td>\n",
              "      <td>4A</td>\n",
              "      <td>D</td>\n",
              "      <td>h=675F</td>\n",
              "      <td>NaN</td>\n",
              "      <td>S-</td>\n",
              "      <td>R15-RTU-178.DWG</td>\n",
              "    </tr>\n",
              "    <tr>\n",
              "      <th>12</th>\n",
              "      <td>???</td>\n",
              "      <td>SIG3_111</td>\n",
              "      <td>2A</td>\n",
              "      <td>D</td>\n",
              "      <td>h=678A</td>\n",
              "      <td>NaN</td>\n",
              "      <td>RTU+</td>\n",
              "      <td>R15-RTU-178.DWG</td>\n",
              "    </tr>\n",
              "    <tr>\n",
              "      <th>13</th>\n",
              "      <td>???</td>\n",
              "      <td>SIG5_111</td>\n",
              "      <td>2D</td>\n",
              "      <td>S</td>\n",
              "      <td>h=679A</td>\n",
              "      <td>NaN</td>\n",
              "      <td>RTU+</td>\n",
              "      <td>R15-RTU-178.DWG</td>\n",
              "    </tr>\n",
              "    <tr>\n",
              "      <th>14</th>\n",
              "      <td>NaN</td>\n",
              "      <td>AM12</td>\n",
              "      <td>1C</td>\n",
              "      <td>A</td>\n",
              "      <td>h=67B6</td>\n",
              "      <td>NaN</td>\n",
              "      <td>RTU-</td>\n",
              "      <td>R15-RTU-178.DWG</td>\n",
              "    </tr>\n",
              "    <tr>\n",
              "      <th>15</th>\n",
              "      <td>???</td>\n",
              "      <td>SIG6_111</td>\n",
              "      <td>4D</td>\n",
              "      <td>S</td>\n",
              "      <td>h=69FA</td>\n",
              "      <td>NaN</td>\n",
              "      <td>S-</td>\n",
              "      <td>R15-RTU-178.DWG</td>\n",
              "    </tr>\n",
              "    <tr>\n",
              "      <th>16</th>\n",
              "      <td>???</td>\n",
              "      <td>SIG5_111</td>\n",
              "      <td>2A</td>\n",
              "      <td>D</td>\n",
              "      <td>h=6705</td>\n",
              "      <td>NaN</td>\n",
              "      <td>RTU+</td>\n",
              "      <td>R15-RTU-179.DWG</td>\n",
              "    </tr>\n",
              "    <tr>\n",
              "      <th>17</th>\n",
              "      <td>NaN</td>\n",
              "      <td>AM12</td>\n",
              "      <td>1A</td>\n",
              "      <td>B</td>\n",
              "      <td>h=672B</td>\n",
              "      <td>NaN</td>\n",
              "      <td>RTU-</td>\n",
              "      <td>R15-RTU-179.DWG</td>\n",
              "    </tr>\n",
              "    <tr>\n",
              "      <th>18</th>\n",
              "      <td>???</td>\n",
              "      <td>RTU3_111</td>\n",
              "      <td>2D</td>\n",
              "      <td>D</td>\n",
              "      <td>h=6759</td>\n",
              "      <td>NaN</td>\n",
              "      <td>RTU-</td>\n",
              "      <td>R15-RTU-179.DWG</td>\n",
              "    </tr>\n",
              "    <tr>\n",
              "      <th>19</th>\n",
              "      <td>???</td>\n",
              "      <td>SIG7_111</td>\n",
              "      <td>4D</td>\n",
              "      <td>S</td>\n",
              "      <td>h=6915</td>\n",
              "      <td>NaN</td>\n",
              "      <td>S-</td>\n",
              "      <td>R15-RTU-179.DWG</td>\n",
              "    </tr>\n",
              "  </tbody>\n",
              "</table>\n",
              "</div>\n",
              "      <button class=\"colab-df-convert\" onclick=\"convertToInteractive('df-32006886-a74e-46f9-a092-01050899e57d')\"\n",
              "              title=\"Convert this dataframe to an interactive table.\"\n",
              "              style=\"display:none;\">\n",
              "        \n",
              "  <svg xmlns=\"http://www.w3.org/2000/svg\" height=\"24px\"viewBox=\"0 0 24 24\"\n",
              "       width=\"24px\">\n",
              "    <path d=\"M0 0h24v24H0V0z\" fill=\"none\"/>\n",
              "    <path d=\"M18.56 5.44l.94 2.06.94-2.06 2.06-.94-2.06-.94-.94-2.06-.94 2.06-2.06.94zm-11 1L8.5 8.5l.94-2.06 2.06-.94-2.06-.94L8.5 2.5l-.94 2.06-2.06.94zm10 10l.94 2.06.94-2.06 2.06-.94-2.06-.94-.94-2.06-.94 2.06-2.06.94z\"/><path d=\"M17.41 7.96l-1.37-1.37c-.4-.4-.92-.59-1.43-.59-.52 0-1.04.2-1.43.59L10.3 9.45l-7.72 7.72c-.78.78-.78 2.05 0 2.83L4 21.41c.39.39.9.59 1.41.59.51 0 1.02-.2 1.41-.59l7.78-7.78 2.81-2.81c.8-.78.8-2.07 0-2.86zM5.41 20L4 18.59l7.72-7.72 1.47 1.35L5.41 20z\"/>\n",
              "  </svg>\n",
              "      </button>\n",
              "      \n",
              "  <style>\n",
              "    .colab-df-container {\n",
              "      display:flex;\n",
              "      flex-wrap:wrap;\n",
              "      gap: 12px;\n",
              "    }\n",
              "\n",
              "    .colab-df-convert {\n",
              "      background-color: #E8F0FE;\n",
              "      border: none;\n",
              "      border-radius: 50%;\n",
              "      cursor: pointer;\n",
              "      display: none;\n",
              "      fill: #1967D2;\n",
              "      height: 32px;\n",
              "      padding: 0 0 0 0;\n",
              "      width: 32px;\n",
              "    }\n",
              "\n",
              "    .colab-df-convert:hover {\n",
              "      background-color: #E2EBFA;\n",
              "      box-shadow: 0px 1px 2px rgba(60, 64, 67, 0.3), 0px 1px 3px 1px rgba(60, 64, 67, 0.15);\n",
              "      fill: #174EA6;\n",
              "    }\n",
              "\n",
              "    [theme=dark] .colab-df-convert {\n",
              "      background-color: #3B4455;\n",
              "      fill: #D2E3FC;\n",
              "    }\n",
              "\n",
              "    [theme=dark] .colab-df-convert:hover {\n",
              "      background-color: #434B5C;\n",
              "      box-shadow: 0px 1px 3px 1px rgba(0, 0, 0, 0.15);\n",
              "      filter: drop-shadow(0px 1px 2px rgba(0, 0, 0, 0.3));\n",
              "      fill: #FFFFFF;\n",
              "    }\n",
              "  </style>\n",
              "\n",
              "      <script>\n",
              "        const buttonEl =\n",
              "          document.querySelector('#df-32006886-a74e-46f9-a092-01050899e57d button.colab-df-convert');\n",
              "        buttonEl.style.display =\n",
              "          google.colab.kernel.accessAllowed ? 'block' : 'none';\n",
              "\n",
              "        async function convertToInteractive(key) {\n",
              "          const element = document.querySelector('#df-32006886-a74e-46f9-a092-01050899e57d');\n",
              "          const dataTable =\n",
              "            await google.colab.kernel.invokeFunction('convertToInteractive',\n",
              "                                                     [key], {});\n",
              "          if (!dataTable) return;\n",
              "\n",
              "          const docLinkHtml = 'Like what you see? Visit the ' +\n",
              "            '<a target=\"_blank\" href=https://colab.research.google.com/notebooks/data_table.ipynb>data table notebook</a>'\n",
              "            + ' to learn more about interactive tables.';\n",
              "          element.innerHTML = '';\n",
              "          dataTable['output_type'] = 'display_data';\n",
              "          await google.colab.output.renderOutput(dataTable, element);\n",
              "          const docLink = document.createElement('div');\n",
              "          docLink.innerHTML = docLinkHtml;\n",
              "          element.appendChild(docLink);\n",
              "        }\n",
              "      </script>\n",
              "    </div>\n",
              "  </div>\n",
              "  "
            ]
          },
          "metadata": {},
          "execution_count": 83
        }
      ]
    },
    {
      "cell_type": "code",
      "source": [
        "for j in range(1,Modulos_125):\n",
        "    for i in range(1,8):\n",
        "      Model.replace(['SIG'+str(i) + '_' + str(SIG_I + n + j -1)],['SIG'+str(i) + '_' + str(SIG_I + n + j)],inplace = True)\n",
        "      Model.replace(['RTU'+str(i) + '_' + str(SIG_I + n + j -1)],['RTU'+str(i) + '_' + str(SIG_I + n + j)],inplace = True)\n",
        "\n",
        "    for i in range(len(Model)):\n",
        "    \n",
        "        Model.at[i,'(FILENAME)'] = Model.at[i, '(FILENAME)'][0:8] + str(int(Model.at[i,'(FILENAME)'][8:11]) + 4) + Model.at[i,'(FILENAME)'][11::]\n",
        "\n",
        "    Data_cont = pd.concat([Data_cont,Model])\n"
      ],
      "metadata": {
        "id": "FaCVbSrvrj7-"
      },
      "execution_count": null,
      "outputs": []
    },
    {
      "cell_type": "code",
      "source": [
        "Data_cont.to_excel(sub + 'SIG_COPIAR.xls', index=False)"
      ],
      "metadata": {
        "id": "XrISqYVs7DoF",
        "colab": {
          "base_uri": "https://localhost:8080/"
        },
        "outputId": "a2a9128b-b88d-4b0a-af64-5ac1061939cf"
      },
      "execution_count": null,
      "outputs": [
        {
          "output_type": "stream",
          "name": "stderr",
          "text": [
            "<ipython-input-84-e90e7445e985>:1: FutureWarning: As the xlwt package is no longer maintained, the xlwt engine will be removed in a future version of pandas. This is the only engine in pandas that supports writing in the xls format. Install openpyxl and write to an xlsx file instead. You can set the option io.excel.xls.writer to 'xlwt' to silence this warning. While this option is deprecated and will also raise a warning, it can be globally set and the warning suppressed.\n",
            "  Data_cont.to_excel(sub + 'SIG_COPIAR.xls', index=False)\n"
          ]
        }
      ]
    },
    {
      "cell_type": "markdown",
      "source": [
        "#DESCRIPCIONES"
      ],
      "metadata": {
        "id": "Rg9f6Vvp7Tbo"
      }
    },
    {
      "cell_type": "code",
      "source": [
        "df = pd.read_excel('R33-RTU_CONF_ORIGINAL.XLS')\n",
        "Model = df.copy()\n",
        "Data_info = pd.DataFrame()\n",
        "Num_Modulos = 73\n",
        "Modulo = 17\n",
        "Rack =''\n",
        "n = 0\n",
        "H = 150\n",
        "\n",
        "for i in range(1,Num_Modulos):\n",
        "\n",
        "  if Modulo > 65 - 4 and n < 1:\n",
        "    Modulo = 13\n",
        "    n = n+1\n",
        "    Rack = str(n)\n",
        "    R = 'R' + Rack + 'BIR01S'\n",
        "  elif Modulo > 81 - 4:\n",
        "    Modulo = 13\n",
        "    n = n+1\n",
        "    Rack = str(n)\n",
        "    R = 'R' + Rack + 'BIR01S'\n",
        "\n",
        "  for i in range(len(Model)):\n",
        "    \n",
        "    Model.at[i,'(DWGNAM)'] = 'R50-RTU-' + str(H+i)\n",
        "    Model.at[i,'SH'] = str(H+i)\n",
        "    Model.at[i,'(FULLFILENAME)'] = Model['(FULLFILENAME)'][i][0:-7] + str(H+i)+'.dwg'\n",
        "    Model.at[i,'DWGDESC3'] = 'MODULO ' + Rack + str(Modulo) +'ED'\n",
        "\n",
        "\n",
        "  H = H + 4\n",
        "  Modulo = Modulo + 4\n",
        "  Data_info = pd.concat([Data_info,Model])"
      ],
      "metadata": {
        "id": "Sxe-OSW8MWR6"
      },
      "execution_count": null,
      "outputs": []
    },
    {
      "cell_type": "code",
      "source": [
        "Data_info.to_excel('R50-RTU-CONF_COPIAR.xls', index=False)"
      ],
      "metadata": {
        "id": "mphH47vQS3VQ"
      },
      "execution_count": null,
      "outputs": []
    }
  ]
}
