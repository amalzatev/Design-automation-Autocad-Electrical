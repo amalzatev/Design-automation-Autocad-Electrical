{
 "cells": [
  {
   "cell_type": "code",
   "execution_count": 14,
   "id": "8f0c3b00",
   "metadata": {},
   "outputs": [
    {
     "data": {
      "text/plain": [
       "'C:/Users/Lenovo/Documents/RTU/R51-RTU-SALTO 1/'"
      ]
     },
     "execution_count": 14,
     "metadata": {},
     "output_type": "execute_result"
    }
   ],
   "source": [
    "# INICIELMENTE SE HACE LA COPIA DE LOS MODULOS BASE\n",
    "#    1. LA NUMERACION DE LA PAGINA INICIAL DEBE SER 150 O 140\n",
    "\n",
    "import numpy as np\n",
    "import shutil\n",
    "import pandas as pd\n",
    "\n",
    "Modulos_24 = 0\n",
    "Modulos_125 = 0\n",
    "Modulos_125_P = 37\n",
    "Modulos_salida = 11\n",
    "Medidores = 7\n",
    "Mod_Total = Modulos_24 + Modulos_125 + Modulos_125_P + Modulos_salida\n",
    "cont = 0\n",
    "IHM = True\n",
    "codSub_Copy = 'R35'\n",
    "codSub = 'R51'\n",
    "DIR = 'C:/Users/Lenovo/Documents/RTU/R51-RTU-SALTO 1/' # CAMBIAR POR DIRECCIÓN DE LA CARPETA DE LA SE\n",
    "DIR"
   ]
  },
  {
   "cell_type": "code",
   "execution_count": 31,
   "id": "f683e48d",
   "metadata": {},
   "outputs": [
    {
     "data": {
      "text/plain": [
       "'C:/Users/Lenovo/Documents/RTU/R51-RTU-SALTO 1/R51-RTU_wdtitle.wdl'"
      ]
     },
     "execution_count": 31,
     "metadata": {},
     "output_type": "execute_result"
    }
   ],
   "source": [
    "shutil.copyfile(codSub_Copy + '-RTU.aepx', DIR + codSub + '-RTU.aepx')\n",
    "shutil.copyfile(codSub_Copy + '-RTU.wdp', DIR + codSub + '-RTU.wdp')\n",
    "shutil.copyfile(codSub_Copy + '-RTU.wdt', DIR + codSub + '-RTU.wdt')\n",
    "shutil.copyfile(codSub_Copy + '-RTU_wdtitle.wdl', DIR + codSub + '-RTU_wdtitle.wdl')"
   ]
  },
  {
   "cell_type": "code",
   "execution_count": 12,
   "id": "3393a2ce",
   "metadata": {},
   "outputs": [],
   "source": [
    "shutil.copyfile(codSub_Copy + '-RTU.wdp', DIR + codSub + '-RTU.wdp')\n",
    "shutil.copyfile(codSub_Copy + '-RTU-100.dwg', DIR + codSub + '-RTU-100.dwg')\n",
    "shutil.copyfile(codSub_Copy + '-RTU-101.dwg', DIR + codSub + '-RTU-101.dwg')\n",
    "shutil.copyfile(codSub_Copy + '-RTU-102.dwg', DIR + codSub + '-RTU-102.dwg')\n",
    "shutil.copyfile(codSub_Copy + '-RTU-105.dwg', DIR + codSub + '-RTU-105.dwg')\n",
    "shutil.copyfile(codSub_Copy + '-RTU-106.dwg', DIR + codSub + '-RTU-106.dwg')\n",
    "shutil.copyfile(codSub_Copy + '-RTU-107.dwg', DIR + codSub + '-RTU-107.dwg')\n",
    "\n",
    "for i in range(0,Mod_Total//12): \n",
    "    \n",
    "    shutil.copyfile('R35-RTU-108.dwg', DIR + codSub + '-RTU-' + str(i+108)+'.dwg')\n",
    "    hoja_alim = 108 + i\n",
    "\n",
    "shutil.copyfile('R35-RTU-110.dwg', DIR + codSub + '-RTU-'+ str(hoja_alim+1) + '.dwg')\n",
    "shutil.copyfile('R35-RTU-112.dwg', DIR + codSub + '-RTU-'+ str(hoja_alim+3) + '.dwg')\n",
    "\n",
    "if IHM:\n",
    "    shutil.copyfile('R35-RTU-111.dwg', DIR + codSub + '-RTU-'+ str(hoja_alim+2) + '.dwg')"
   ]
  },
  {
   "cell_type": "code",
   "execution_count": 11,
   "id": "565169fa",
   "metadata": {},
   "outputs": [],
   "source": []
  },
  {
   "cell_type": "code",
   "execution_count": 15,
   "id": "a74e6c46",
   "metadata": {},
   "outputs": [],
   "source": [
    "    \n",
    "for i in range(0,Medidores): \n",
    "    \n",
    "    shutil.copyfile('R35-RTU-' + str(i+120)+'.dwg', DIR + codSub + '-RTU-' + str(i+120)+'.dwg')\n"
   ]
  },
  {
   "cell_type": "code",
   "execution_count": 16,
   "id": "c4e2a2a1",
   "metadata": {},
   "outputs": [],
   "source": [
    "# SE AGREGAN LAS HOJAS QUE CORRESPONDEN A LOS RELES DE 24\n",
    "\n",
    "for i in range(0,Modulos_24): \n",
    "    \n",
    "    for j in range(140,142):\n",
    "        shutil.copyfile('R35-RTU-'+str(j)+'-24.dwg',  DIR + codSub + '-RTU-' + str(j+cont)+'.dwg')\n",
    "\n",
    "    cont += 2\n"
   ]
  },
  {
   "cell_type": "code",
   "execution_count": 17,
   "id": "693d3307",
   "metadata": {},
   "outputs": [],
   "source": [
    "\n",
    "for i in range(0,Modulos_125):\n",
    "    for j in range(140,144): \n",
    "        shutil.copyfile('R35-RTU-'+str(j)+'-125.dwg', DIR + codSub + '-RTU-' + str(j+cont)+'.dwg')\n",
    "\n",
    "    cont += 4"
   ]
  },
  {
   "cell_type": "code",
   "execution_count": 18,
   "id": "d9d28f0b",
   "metadata": {},
   "outputs": [],
   "source": [
    "for i in range(0,Modulos_125_P):\n",
    "    for j in range(140,144):\n",
    "        shutil.copyfile('R35-RTU-'+str(j)+'-125-P.dwg', DIR + codSub + '-RTU-' + str(j+cont)+'.dwg')\n",
    "\n",
    "    cont += 4"
   ]
  },
  {
   "cell_type": "code",
   "execution_count": 19,
   "id": "662783c3",
   "metadata": {},
   "outputs": [],
   "source": [
    "for i in range(0,Modulos_salida): \n",
    "    \n",
    "    for j in range(140,142):\n",
    "        \n",
    "        shutil.copyfile('R35-RTU-'+str(j)+'-S.dwg',  DIR + codSub + '-RTU-' + str(j+cont)+'.dwg')\n",
    "\n",
    "    cont += 2"
   ]
  },
  {
   "cell_type": "code",
   "execution_count": 28,
   "id": "eee0ab1e",
   "metadata": {},
   "outputs": [
    {
     "data": {
      "text/plain": [
       "400"
      ]
     },
     "execution_count": 28,
     "metadata": {},
     "output_type": "execute_result"
    }
   ],
   "source": [
    "((140+cont)//100+1)*100\n"
   ]
  },
  {
   "cell_type": "code",
   "execution_count": 29,
   "id": "ad4dfab0",
   "metadata": {},
   "outputs": [
    {
     "data": {
      "text/plain": [
       "'C:/Users/Lenovo/Documents/RTU/R51-RTU-SALTO 1/R51-RTU-403.dwg'"
      ]
     },
     "execution_count": 29,
     "metadata": {},
     "output_type": "execute_result"
    }
   ],
   "source": [
    "shutil.copyfile('R35-RTU-300.dwg', DIR + codSub + '-RTU-'+ str(((140+cont)//100+1)*100) + '.dwg')\n",
    "shutil.copyfile('R35-RTU-301.dwg', DIR + codSub + '-RTU-'+ str(((140+cont)//100+1)*100 + 1) + '.dwg')\n",
    "shutil.copyfile('R35-RTU-302.dwg', DIR + codSub + '-RTU-'+ str(((140+cont)//100+1)*100 + 2) + '.dwg')\n",
    "shutil.copyfile('R35-RTU-303.dwg', DIR + codSub + '-RTU-'+ str(((140+cont)//100+1)*100 + 3) + '.dwg')"
   ]
  },
  {
   "cell_type": "code",
   "execution_count": null,
   "id": "217c82d9",
   "metadata": {},
   "outputs": [],
   "source": []
  }
 ],
 "metadata": {
  "kernelspec": {
   "display_name": "Python 3",
   "language": "python",
   "name": "python3"
  },
  "language_info": {
   "codemirror_mode": {
    "name": "ipython",
    "version": 3
   },
   "file_extension": ".py",
   "mimetype": "text/x-python",
   "name": "python",
   "nbconvert_exporter": "python",
   "pygments_lexer": "ipython3",
   "version": "3.8.8"
  }
 },
 "nbformat": 4,
 "nbformat_minor": 5
}
